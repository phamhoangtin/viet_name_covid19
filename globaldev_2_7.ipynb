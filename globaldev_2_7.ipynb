{
 "cells": [
  {
   "cell_type": "markdown",
   "metadata": {},
   "source": [
    "# Algorithm "
   ]
  },
  {
   "cell_type": "code",
   "execution_count": 14,
   "metadata": {},
   "outputs": [],
   "source": [
    "def climb_stairs(n):\n",
    "    ls_ways = [1,1]\n",
    "    for i in range(2,n+1):\n",
    "        sum_way = ls_ways[i-1] + ls_ways[i-2]\n",
    "        ls_ways.append(sum_way)\n",
    "    return ls_ways[n]"
   ]
  },
  {
   "cell_type": "code",
   "execution_count": 25,
   "metadata": {},
   "outputs": [
    {
     "name": "stdout",
     "output_type": "stream",
     "text": [
      "3\n"
     ]
    }
   ],
   "source": [
    "print(climbStairs(3))"
   ]
  },
  {
   "cell_type": "code",
   "execution_count": 27,
   "metadata": {},
   "outputs": [
    {
     "name": "stdout",
     "output_type": "stream",
     "text": [
      "5\n"
     ]
    }
   ],
   "source": [
    "print(climbStairs(4))"
   ]
  },
  {
   "cell_type": "code",
   "execution_count": 26,
   "metadata": {},
   "outputs": [
    {
     "name": "stdout",
     "output_type": "stream",
     "text": [
      "8\n"
     ]
    }
   ],
   "source": [
    "print(climbStairs(5))"
   ]
  },
  {
   "cell_type": "code",
   "execution_count": 28,
   "metadata": {},
   "outputs": [
    {
     "name": "stdout",
     "output_type": "stream",
     "text": [
      "13\n"
     ]
    }
   ],
   "source": [
    "print(climbStairs(6))"
   ]
  },
  {
   "cell_type": "code",
   "execution_count": 21,
   "metadata": {},
   "outputs": [],
   "source": [
    " def max_sum( nums, requests):\n",
    "        l = len(nums)\n",
    "        sums = [0]*(l+1)\n",
    "        result = 0\n",
    "        N = 10**9 + 7\n",
    "        for r in requests:\n",
    "            sums[r[0]] += 1\n",
    "            sums[r[1]+1] -= 1\n",
    "        for i in range(l):\n",
    "            sums[i+1] += sums[i]\n",
    "        sums.sort(key = lambda x: -x)\n",
    "        nums.sort(key = lambda x: -x)\n",
    "        for i in range(l):\n",
    "            result += (sums[i]*nums[i])%N\n",
    "        return result % N"
   ]
  },
  {
   "cell_type": "code",
   "execution_count": 22,
   "metadata": {},
   "outputs": [
    {
     "name": "stdout",
     "output_type": "stream",
     "text": [
      "19\n"
     ]
    }
   ],
   "source": [
    "ls = [1,2,3,4,5]\n",
    "r =  [[1,3],[0,1]]\n",
    "\n",
    "print(max_sum(ls,r))"
   ]
  },
  {
   "cell_type": "code",
   "execution_count": 23,
   "metadata": {},
   "outputs": [
    {
     "name": "stdout",
     "output_type": "stream",
     "text": [
      "11\n"
     ]
    }
   ],
   "source": [
    "ls =  [1,2,3,4,5,6]\n",
    "r =  [[0,1]]\n",
    "print(max_sum(ls,r))\n",
    "\n"
   ]
  },
  {
   "cell_type": "markdown",
   "metadata": {},
   "source": [
    "# live code"
   ]
  },
  {
   "cell_type": "code",
   "execution_count": 35,
   "metadata": {},
   "outputs": [],
   "source": [
    "import pandas as pd\n",
    "import requests\n",
    "import re"
   ]
  },
  {
   "cell_type": "code",
   "execution_count": 24,
   "metadata": {},
   "outputs": [],
   "source": [
    "response = requests.get(\"https://api.quarantine.country/api/v1/spots/week?region=vietnam\")\n",
    "dict_data_region = response.json()[\"data\"]"
   ]
  },
  {
   "cell_type": "code",
   "execution_count": null,
   "metadata": {},
   "outputs": [],
   "source": [
    "dict_data_region"
   ]
  },
  {
   "cell_type": "code",
   "execution_count": 63,
   "metadata": {},
   "outputs": [],
   "source": [
    "def convert(text):\n",
    "    \"\"\"\n",
    "    Convert from 'Tieng Viet co dau' thanh 'Tieng Viet khong dau'\n",
    "    text: input string to be converted\n",
    "    Return: string converted\n",
    "    \"\"\"\n",
    "    patterns = {\n",
    "    '[àáảãạăắằẵặẳâầấậẫẩ]': 'a',\n",
    "    '[đ]': 'd',\n",
    "    '[èéẻẽẹêềếểễệ]': 'e',\n",
    "    '[ìíỉĩị]': 'i',\n",
    "    '[òóỏõọôồốổỗộơờớởỡợ]': 'o',\n",
    "    '[ùúủũụưừứửữự]': 'u',\n",
    "    '[ỳýỷỹỵ]': 'y'\n",
    "    }\n",
    "\n",
    "    output = text\n",
    "    for regex, replace in patterns.items():\n",
    "        output = re.sub(regex, replace, output)\n",
    "        # deal with upper case\n",
    "        output = re.sub(regex.upper(), replace.upper(), output)\n",
    "        output = output.replace(\"-\",\" \")\n",
    "        output = output.title()\n",
    "    return output"
   ]
  },
  {
   "cell_type": "code",
   "execution_count": 67,
   "metadata": {},
   "outputs": [],
   "source": [
    "response_province = requests.get(\"https://api.apify.com/v2/key-value-stores/p3nS2Q9TUn6kUOriJ/records/LATEST\")\n",
    "dict_data_province = response_province.json()[\"key\"]\n",
    "df_province = pd.DataFrame(columns = ['name','hec-key'])\n",
    "for province in dict_data_province:\n",
    "    df_province = df_province.append(province, ignore_index=True)\n",
    "df_province[\"province\"] = df_province['name'].apply(lambda x: convert(x))\n",
    "df_province.to_csv('province_key.csv',sep=',', index=False)"
   ]
  },
  {
   "cell_type": "code",
   "execution_count": 68,
   "metadata": {},
   "outputs": [],
   "source": [
    "response_status = requests.get(\"https://api.apify.com/v2/key-value-stores/ZsOpZgeg7dFS1rgfM/records/LATEST\")\n",
    "dict_status = response_status.json()[\"detail\"]\n",
    "df_status = pd.DataFrame(columns = ['socakhoi','socadangdieutri','socatuvong','hc-key','value'])\n",
    "for status in dict_status:\n",
    "    df_status = df_status.append(status, ignore_index=True)\n",
    "\n",
    "df_status.to_csv('status.csv',sep=',', index=False)"
   ]
  },
  {
   "cell_type": "code",
   "execution_count": null,
   "metadata": {},
   "outputs": [],
   "source": [
    "response_his = requests.get(\"https://api.quarantine.country/api/v1/spots/week?region=vietnam\")\n",
    "dict_his = response_status.json()[\"data\"]\n",
    "df_status = pd.DataFrame(columns = ['socakhoi','socadangdieutri','socatuvong','hc-key','value'])\n",
    "for status in dict_status:\n",
    "    df_status = df_status.append(status, ignore_index=True)\n",
    "\n",
    "df_status.to_csv('status.csv',sep=',', index=False)"
   ]
  },
  {
   "cell_type": "code",
   "execution_count": 94,
   "metadata": {},
   "outputs": [],
   "source": [
    "\n",
    "def get_history(ls_url):\n",
    "    df_his = pd.DataFrame(columns = ['total_cases','deaths','recovered','critical','tested','death_ratio','recovery_ratio','date'])\n",
    "    for url in ls_url:\n",
    "        try:\n",
    "            response_his = requests.get(url)\n",
    "            dict_his = response_his.json()['data']\n",
    "            ls_dict_his = []\n",
    "            for k,v in dict_his.items():\n",
    "                dict_temp = v\n",
    "                dict_temp['date'] = k\n",
    "                ls_dict_his.append(dict_temp)\n",
    "            for his in ls_dict_his:\n",
    "                df_his = df_his.append(his, ignore_index=True)\n",
    "        except:\n",
    "            print(\"error: \" + url)\n",
    "            continue\n",
    "    df_his.to_csv('his_status.csv',sep=',', index=False)"
   ]
  },
  {
   "cell_type": "code",
   "execution_count": 95,
   "metadata": {},
   "outputs": [],
   "source": [
    "ls_url = [\"https://api.quarantine.country/api/v1/spots/week?region=vietnam\",\n",
    "          \"https://api.quarantine.country/api/v1/spots/month?region=vietnam\",\n",
    "         \"https://api.quarantine.country/api/v1/spots/year?region=vietnam\"]\n",
    "get_history(ls_url)"
   ]
  },
  {
   "cell_type": "code",
   "execution_count": 92,
   "metadata": {},
   "outputs": [],
   "source": []
  },
  {
   "cell_type": "code",
   "execution_count": null,
   "metadata": {},
   "outputs": [],
   "source": []
  }
 ],
 "metadata": {
  "kernelspec": {
   "display_name": "Python 3",
   "language": "python",
   "name": "python3"
  },
  "language_info": {
   "codemirror_mode": {
    "name": "ipython",
    "version": 3
   },
   "file_extension": ".py",
   "mimetype": "text/x-python",
   "name": "python",
   "nbconvert_exporter": "python",
   "pygments_lexer": "ipython3",
   "version": "3.8.5"
  }
 },
 "nbformat": 4,
 "nbformat_minor": 4
}
